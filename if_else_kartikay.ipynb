{
 "cells": [
  {
   "cell_type": "markdown",
   "id": "e4e422f4",
   "metadata": {},
   "source": [
    "Q1. Write a program to calculate the electricity bill\n",
    "using only if statement? (accept number of unit from user)\n",
    "according to the following criteria:\n",
    "\n",
    "Unit Price\n",
    "First 100 units no charge\n",
    "Next 100 units Rs 5 per unit\n",
    "After 200 units Rs 10 per unit\n",
    "(For example, if input unit is 350 than total bill amount is Rs2000). Lets explain...\n",
    "For first 100 no charges\n",
    "Now you have 250 unit remaining\n",
    "100-200 you need to pay – 100*5 = 500\n",
    "Now 200-100 you need to pay 150*10 = 1500\n",
    "Total = 500+1500 = 2000"
   ]
  },
  {
   "cell_type": "code",
   "execution_count": 9,
   "id": "1abf5f95",
   "metadata": {},
   "outputs": [
    {
     "name": "stdout",
     "output_type": "stream",
     "text": [
      "Enter your electricity unit: 350\n",
      "Your Electricity bill is:  2000\n"
     ]
    }
   ],
   "source": [
    "unit = int(input(\"Enter your electricity unit: \"))\n",
    "\n",
    "\n",
    "if unit < 100:\n",
    "    print(\"Your Electricity bill is Zero\")\n",
    "\n",
    "elif unit > 100 and unit < 200:\n",
    "    \n",
    "    bill = (unit-100)*5\n",
    "    print(\"Your Electricity bill is: \", bill)\n",
    "\n",
    "elif unit > 200:\n",
    "    \n",
    "    bill = 500 + (unit-200)*10\n",
    "    print(\"Your Electricity bill is: \", bill)\n",
    "    "
   ]
  },
  {
   "cell_type": "code",
   "execution_count": null,
   "id": "ee72b329",
   "metadata": {},
   "outputs": [],
   "source": []
  },
  {
   "cell_type": "markdown",
   "id": "ab5d0a6f",
   "metadata": {},
   "source": [
    "Q2. Write a program to accept percentage from the user and display\n",
    "the grade according to the following criteria:\n",
    "\n",
    "Marks Grade\n",
    "> 90 A\n",
    "> 80 and <= 90 B\n",
    ">= 60 and <= 80 C\n",
    "below 60 D"
   ]
  },
  {
   "cell_type": "code",
   "execution_count": 14,
   "id": "223a3668",
   "metadata": {},
   "outputs": [
    {
     "name": "stdout",
     "output_type": "stream",
     "text": [
      "Enter your Marks: 81\n",
      "Your Grade is: B\n"
     ]
    }
   ],
   "source": [
    "Marks = int(input(\"Enter your Marks: \"))\n",
    "\n",
    "if Marks > 90:\n",
    "    print(\"Your Grade is: A\")\n",
    "    \n",
    "elif Marks > 80 and Marks <= 90:\n",
    "    print(\"Your Grade is: B\")\n",
    "\n",
    "elif Marks >= 60 and Marks <= 80:\n",
    "    print(\"Your Grade is: C\")\n",
    "    \n",
    "elif Marks < 60:\n",
    "    print(\"Your Grade is: D\")\n",
    "        "
   ]
  },
  {
   "cell_type": "code",
   "execution_count": null,
   "id": "c3e5f00e",
   "metadata": {},
   "outputs": [],
   "source": []
  },
  {
   "cell_type": "markdown",
   "id": "29cbb771",
   "metadata": {},
   "source": [
    "Q3. Accept the age of 4 people and display the youngest one?"
   ]
  },
  {
   "cell_type": "code",
   "execution_count": 16,
   "id": "7c93e09d",
   "metadata": {},
   "outputs": [
    {
     "name": "stdout",
     "output_type": "stream",
     "text": [
      "Enter your age: 34\n",
      "Enter your age: 54\n",
      "Enter your age: 21\n",
      "Enter your age: 45\n",
      "The age of youngest one among the given people is :  21\n"
     ]
    }
   ],
   "source": [
    "Deep = int(input(\"Enter your age: \"))\n",
    "Kartikay = int(input(\"Enter your age: \"))\n",
    "Harsh = int(input(\"Enter your age: \"))\n",
    "Anuj = int(input(\"Enter your age: \"))\n",
    "\n",
    "youngest_one = min(Deep, Kartikay, Harsh, Anuj)\n",
    "\n",
    "print(\"The age of youngest one among the given people is : \", youngest_one)\n"
   ]
  },
  {
   "cell_type": "code",
   "execution_count": null,
   "id": "df4876cc",
   "metadata": {},
   "outputs": [],
   "source": []
  },
  {
   "cell_type": "markdown",
   "id": "f1c9fa08",
   "metadata": {},
   "source": [
    "Q4. A company decided to give bonus to employee\n",
    "according to following criteria:\n",
    "\n",
    "Time period of Service Bonus\n",
    "\n",
    "More than 10 years 10%\n",
    "\n",
    ">=6 and <=10 8%\n",
    "\n",
    "Less than 6 years 5%\n",
    "\n",
    "Ask user for their salary and years of service and print the\n",
    "net bonus amount?"
   ]
  },
  {
   "cell_type": "code",
   "execution_count": 20,
   "id": "24a01658",
   "metadata": {},
   "outputs": [
    {
     "name": "stdout",
     "output_type": "stream",
     "text": [
      "Enter your Salary : 340000\n",
      "Enter your time period of Service : 5\n",
      "Your net bonus amount is :  17000.0\n"
     ]
    }
   ],
   "source": [
    "salary = int(input(\"Enter your Salary : \"))\n",
    "Yrs_Service = int(input(\"Enter your time period of Service : \"))\n",
    "\n",
    "if Yrs_Service > 10:\n",
    "    pay = salary/100*10\n",
    "    print(\"Your net bonus amount is : \", pay)\n",
    "\n",
    "elif Yrs_Service >= 6 and Yrs_Service <= 10:\n",
    "    pay = salary/100*8\n",
    "    print(\"Your net bonus amount is : \", pay)\n",
    "\n",
    "elif Yrs_Service < 6:\n",
    "    pay = salary/100*5\n",
    "    print(\"Your net bonus amount is : \", pay)\n",
    "    \n",
    "else:\n",
    "    print(\"your net bonus amount is 0\")\n",
    "    "
   ]
  },
  {
   "cell_type": "code",
   "execution_count": null,
   "id": "6377f5d8",
   "metadata": {},
   "outputs": [],
   "source": []
  },
  {
   "cell_type": "markdown",
   "id": "2dde2389",
   "metadata": {},
   "source": [
    "Q5. Accept three numbers from the user and display the second largest number?"
   ]
  },
  {
   "cell_type": "code",
   "execution_count": 2,
   "id": "20d78e00",
   "metadata": {},
   "outputs": [
    {
     "name": "stdout",
     "output_type": "stream",
     "text": [
      "Enter the first number : 123\n",
      "Enter the second number : 30\n",
      "Enter the third number : 200\n",
      "The second largest number is :  123\n"
     ]
    }
   ],
   "source": [
    "num_1 = int(input(\"Enter the first number : \"))\n",
    "num_2 = int(input(\"Enter the second number : \"))\n",
    "num_3 = int(input(\"Enter the third number : \"))\n",
    "\n",
    "if num_1 > num_2 and num_2 > num_3:\n",
    "    print(\"The second largest number is : \", num_2)\n",
    "    \n",
    "elif num_2 > num_1 and num_1 > num_3:\n",
    "    print(\"The second largest number is : \", num_1)\n",
    "        \n",
    "elif num_2 > num_3 and num_3 > num_1:\n",
    "    print(\"The second largest number is : \", num_3)\n",
    "            \n",
    "elif num_3 > num_2 and num_2 > num_1:\n",
    "    print(\"The second largest number is : \", num_2)\n",
    "                \n",
    "elif num_3 > num_1 and num_1 > num_2:\n",
    "    print(\"The second largest number is : \", num_1)\n",
    "                    \n",
    "elif num_1 > num_3 and num_3 > num_2:\n",
    "    print(\"The second largest number is : \", num_3)\n",
    "                        \n"
   ]
  },
  {
   "cell_type": "code",
   "execution_count": null,
   "id": "5fcb43a3",
   "metadata": {},
   "outputs": [],
   "source": []
  },
  {
   "cell_type": "markdown",
   "id": "b71e84da",
   "metadata": {},
   "source": [
    "Q6. Accept the marked price from the user and calculate the Net amount as (Marked Price – Discount) to pay according to following criteria:\n",
    "\n",
    "Marked Price Discount : \n",
    "\n",
    "A.  >10000 - 20%    \n",
    "B.  >7000 and <=10000 - 15%    \n",
    "C.  <=7000 - 10%"
   ]
  },
  {
   "cell_type": "code",
   "execution_count": 10,
   "id": "2ecd481b",
   "metadata": {},
   "outputs": [
    {
     "name": "stdout",
     "output_type": "stream",
     "text": [
      "Enter the mrp of item : 5500\n",
      "The net amount is :  4950.0\n"
     ]
    }
   ],
   "source": [
    "mrp = int(input(\"Enter the mrp of item : \"))\n",
    "\n",
    "if mrp > 10000:\n",
    "    print(\"The net amount is : \",mrp - ((mrp/100)*20))\n",
    "    \n",
    "elif mrp > 7000 and mrp <=10000:\n",
    "    print(\"The net amount is : \",mrp - ((mrp/100)*15))\n",
    "    \n",
    "elif mrp <= 7000:\n",
    "    print(\"The net amount is : \",mrp - ((mrp/100)*10))\n"
   ]
  },
  {
   "cell_type": "code",
   "execution_count": null,
   "id": "f1f1a3eb",
   "metadata": {},
   "outputs": [],
   "source": []
  },
  {
   "cell_type": "markdown",
   "id": "c6bfb38a",
   "metadata": {},
   "source": [
    "Q7. Accept the marks of English, Math and Science,\n",
    "Social Studies Subject and display the stream allotted\n",
    "according to following:\n",
    "\n",
    "All Subjects more than 80 marks — Science Stream\n",
    "\n",
    "English >80 and Math, Science above 50 — Commerce Stream\n",
    "\n",
    "English > 80 and social studies > 80 — Humanities"
   ]
  },
  {
   "cell_type": "code",
   "execution_count": 3,
   "id": "cc678571",
   "metadata": {},
   "outputs": [
    {
     "name": "stdout",
     "output_type": "stream",
     "text": [
      "Enter the marks of english : 83\n",
      "Enter the marks of math : 45\n",
      "Enter the marks of science: 43\n",
      "Enter the marks of social studies : 82\n",
      "Humanities\n"
     ]
    }
   ],
   "source": [
    "eng_marks = int(input(\"Enter the marks of english : \"))\n",
    "math_marks = int(input(\"Enter the marks of math : \"))\n",
    "sci_marks = int(input(\"Enter the marks of science: \"))\n",
    "sst_marks = int(input(\"Enter the marks of social studies : \"))\n",
    " \n",
    "if eng_marks > 80 and math_marks > 80 and sci_marks > 80 and sst_marks > 80:\n",
    "    print(\"Science Stream\")\n",
    "    \n",
    "elif eng_marks > 80 and math_marks > 50 and sci_marks > 50:\n",
    "     print(\"Commerce Stream\")\n",
    "        \n",
    "elif eng_marks > 80 and sst_marks > 80:\n",
    "     print(\"Humanities\")\n",
    "        \n",
    "else:\n",
    "     print(\"Wrong input\")"
   ]
  },
  {
   "cell_type": "code",
   "execution_count": null,
   "id": "c3d34138",
   "metadata": {},
   "outputs": [],
   "source": []
  },
  {
   "cell_type": "markdown",
   "id": "0c9ab51d",
   "metadata": {},
   "source": [
    "Q8. Write a program to display \"Hello\" if a number entered\n",
    "by user is a multiple of five, otherwise print \"Bye\"?"
   ]
  },
  {
   "cell_type": "code",
   "execution_count": 1,
   "id": "e7060cd0",
   "metadata": {},
   "outputs": [
    {
     "name": "stdout",
     "output_type": "stream",
     "text": [
      "Enter the number : 45\n",
      "Hello\n"
     ]
    }
   ],
   "source": [
    "number = int(input(\"Enter the number : \"))\n",
    "\n",
    "if number % 5 == 0:\n",
    "    print(\"Hello\") #The given number is a multiple of 5\n",
    "\n",
    "else:\n",
    "    print(\"Bye\") #The given number is not a multiple of 5\n",
    "    "
   ]
  },
  {
   "cell_type": "code",
   "execution_count": null,
   "id": "e157558c",
   "metadata": {},
   "outputs": [],
   "source": []
  },
  {
   "cell_type": "markdown",
   "id": "30bb04e1",
   "metadata": {},
   "source": [
    "Q9. Write a program to check whether the last digit of a number\n",
    "(entered by user) is divisible by 3 or not?"
   ]
  },
  {
   "cell_type": "code",
   "execution_count": 4,
   "id": "6cd4de55",
   "metadata": {},
   "outputs": [
    {
     "name": "stdout",
     "output_type": "stream",
     "text": [
      "Enter the number : 43\n",
      "The last digit of the given number is divisble by 3\n"
     ]
    }
   ],
   "source": [
    "number1 = int(input(\"Enter the number : \"))\n",
    "last_digit = number1 % 10\n",
    "\n",
    "if last_digit % 3 == 0:\n",
    "    print(\"The last digit of the given number is divisble by 3\")\n",
    "    \n",
    "else:\n",
    "    print(\"The last digit of the given number is not divisble by 3\")\n",
    "    "
   ]
  },
  {
   "cell_type": "code",
   "execution_count": null,
   "id": "ae359bd0",
   "metadata": {},
   "outputs": [],
   "source": []
  },
  {
   "cell_type": "markdown",
   "id": "d606e1f9",
   "metadata": {},
   "source": [
    "Q10. Write a program to check whether a number entered\n",
    "is three-digit number or not?"
   ]
  },
  {
   "cell_type": "code",
   "execution_count": 5,
   "id": "953f2341",
   "metadata": {},
   "outputs": [
    {
     "name": "stdout",
     "output_type": "stream",
     "text": [
      "Enter the number : 456\n",
      "The given number is a three digit number\n"
     ]
    }
   ],
   "source": [
    "number2 = int(input(\"Enter the number : \"))\n",
    "\n",
    "if (number2 < 1000 and number2 > 99):\n",
    "    print(\"The given number is a three digit number\")\n",
    "    \n",
    "else:\n",
    "    print(\"The given nummber is not a three digit number\")\n",
    "    "
   ]
  },
  {
   "cell_type": "code",
   "execution_count": null,
   "id": "7daa9c74",
   "metadata": {},
   "outputs": [],
   "source": []
  }
 ],
 "metadata": {
  "kernelspec": {
   "display_name": "Python 3 (ipykernel)",
   "language": "python",
   "name": "python3"
  },
  "language_info": {
   "codemirror_mode": {
    "name": "ipython",
    "version": 3
   },
   "file_extension": ".py",
   "mimetype": "text/x-python",
   "name": "python",
   "nbconvert_exporter": "python",
   "pygments_lexer": "ipython3",
   "version": "3.11.7"
  }
 },
 "nbformat": 4,
 "nbformat_minor": 5
}
