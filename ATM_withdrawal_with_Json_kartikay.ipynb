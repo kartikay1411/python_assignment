{
 "cells": [
  {
   "cell_type": "markdown",
   "id": "966e7f50-3f8d-4705-9729-83678c3702b3",
   "metadata": {},
   "source": [
    "# Your need to create an ATM banking system."
   ]
  },
  {
   "cell_type": "markdown",
   "id": "8281e7e6-3541-4cb0-aea5-6e24f5041bc8",
   "metadata": {},
   "source": [
    "1. You have Json named (rohit.json).\n",
    "2. Your file contains all information that requires to withdraw money from ATM.\n",
    "    1. Account_number\n",
    "    2. ATM_pin\n",
    "    3. Account_type\n",
    "    4. Balance\n",
    "    5. Mobile number"
   ]
  },
  {
   "cell_type": "markdown",
   "id": "039d4da7-46df-4d9b-9b93-38e374e7570a",
   "metadata": {},
   "source": [
    "# You will need to write a python code."
   ]
  },
  {
   "cell_type": "markdown",
   "id": "9272bcc1-0b0b-405c-83a5-1626e5651305",
   "metadata": {},
   "source": [
    "All four information above you will read from json file. After that you will ask all credentials from\n",
    "customer if all information is correct and customer has sufficient balance in his account than customer\n",
    "can withdraw money.\n",
    "\n",
    "Note: if one credential is wrong you will not ask next credential. You will terminate transaction same\n",
    "time.\n",
    "\n",
    "After money withdrawal you will update remaining balance in your file and dump is as json file again\n",
    "in same balance section."
   ]
  },
  {
   "cell_type": "code",
   "execution_count": 20,
   "id": "7302d598-5692-4baa-825c-7de1e26d184d",
   "metadata": {},
   "outputs": [],
   "source": [
    "dict1 = {\"Account_number\":1234567890, \"ATM_pin\":10101, \"Account_type\":\"Savings\", \"Balance\":20000, \"Mobile_number\":1411202021}\n",
    "\n",
    "import json\n",
    "\n",
    "with open(\"customer_data.json\", mode = \"x\") as file:\n",
    "    json.dump(dict1,file)"
   ]
  },
  {
   "cell_type": "code",
   "execution_count": 21,
   "id": "9acae040-7d56-4b74-a5d6-a32a762ed7ec",
   "metadata": {},
   "outputs": [],
   "source": [
    "with open(\"customer_data.json\",mode = \"r+\") as file:\n",
    "    content = json.load(file)"
   ]
  },
  {
   "cell_type": "code",
   "execution_count": 22,
   "id": "058c9c67-b53f-4252-9585-818a57535830",
   "metadata": {},
   "outputs": [
    {
     "name": "stdin",
     "output_type": "stream",
     "text": [
      "Enter your account number :  1234567890\n"
     ]
    },
    {
     "name": "stdout",
     "output_type": "stream",
     "text": [
      "Your account number is correct\n"
     ]
    },
    {
     "name": "stdin",
     "output_type": "stream",
     "text": [
      "Enter your ATM pin :  10101\n"
     ]
    },
    {
     "name": "stdout",
     "output_type": "stream",
     "text": [
      "Your ATM pin is correct\n"
     ]
    },
    {
     "name": "stdin",
     "output_type": "stream",
     "text": [
      "Enter your account type :  Savings\n"
     ]
    },
    {
     "name": "stdout",
     "output_type": "stream",
     "text": [
      "Your account type is correct\n"
     ]
    },
    {
     "name": "stdin",
     "output_type": "stream",
     "text": [
      "Enter your mobile number :  1411202021\n"
     ]
    },
    {
     "name": "stdout",
     "output_type": "stream",
     "text": [
      "Your mobile number is correct and your balance is :  20000\n"
     ]
    },
    {
     "name": "stdin",
     "output_type": "stream",
     "text": [
      "Enter your amount :  5400\n"
     ]
    },
    {
     "name": "stdout",
     "output_type": "stream",
     "text": [
      "Please collect your amount 5400\n",
      "Your remaining balance amount is 14600\n"
     ]
    }
   ],
   "source": [
    "\n",
    "acc_num = int(input(\"Enter your account number : \"))\n",
    "count = 1\n",
    "\n",
    "if acc_num == content[\"Account_number\"]:\n",
    "    print(\"Your account number is correct\")\n",
    "    \n",
    "    while count < 4:\n",
    "        \n",
    "        atm_pin = int(input(\"Enter your ATM pin : \"))\n",
    "        \n",
    "        if atm_pin == content[\"ATM_pin\"]:\n",
    "            print(\"Your ATM pin is correct\")\n",
    "            \n",
    "            acc_type = input(\"Enter your account type : \")\n",
    "            \n",
    "            if acc_type == content[\"Account_type\"]:\n",
    "                print(\"Your account type is correct\")\n",
    "                \n",
    "                mob_num = int(input(\"Enter your mobile number : \"))\n",
    "                \n",
    "                if mob_num == content[\"Mobile_number\"]:\n",
    "                    print(\"Your mobile number is correct and your balance is : \", content[\"Balance\"])\n",
    "                    \n",
    "                    with_amt = int(input(\"Enter your amount : \"))\n",
    "                    \n",
    "                    if with_amt > content[\"Balance\"]:\n",
    "                        print(\"Please enter correct amount\")\n",
    "                        \n",
    "                    elif with_amt <= content[\"Balance\"]:\n",
    "                        print(\"Please collect your amount\", with_amt)\n",
    "                        \n",
    "                        content[\"Balance\"] -= with_amt\n",
    "                        print(\"Your remaining balance amount is\", content[\"Balance\"])\n",
    "\n",
    "                        with open(\"customer_data.json\",mode = \"r+\") as file:\n",
    "                            json.dump(content,file)\n",
    "                        \n",
    "                        break\n",
    "                else:\n",
    "                    print(\"Wrong mobile number\")\n",
    "                \n",
    "            else:\n",
    "                print(\"Wrong account type\")\n",
    "                      \n",
    "        else:\n",
    "            print(\"Wrong ATM pin\")\n",
    "            \n",
    "        count += 1\n",
    "    \n",
    "    else:\n",
    "        print(\"Your limit for wrong password input has exceeded\")\n",
    "else:\n",
    "    print(\"wrong account number\")\n",
    "    "
   ]
  },
  {
   "cell_type": "code",
   "execution_count": 25,
   "id": "9f182e96-ff3d-4d89-8e7b-a60792ad220e",
   "metadata": {},
   "outputs": [
    {
     "data": {
      "text/plain": [
       "{'Account_number': 1234567890,\n",
       " 'ATM_pin': 10101,\n",
       " 'Account_type': 'Savings',\n",
       " 'Balance': 14600,\n",
       " 'Mobile_number': 1411202021}"
      ]
     },
     "execution_count": 25,
     "metadata": {},
     "output_type": "execute_result"
    }
   ],
   "source": [
    "(content)"
   ]
  },
  {
   "cell_type": "code",
   "execution_count": 26,
   "id": "3237cd62-406c-4c2e-9c23-ae67876017e1",
   "metadata": {},
   "outputs": [],
   "source": [
    "with open(\"customer_data.json\",mode = \"r\") as file:\n",
    "    content = json.load(file)"
   ]
  },
  {
   "cell_type": "code",
   "execution_count": 27,
   "id": "9ca766e5-1bd4-4558-8b28-afa2a4712396",
   "metadata": {},
   "outputs": [
    {
     "name": "stdout",
     "output_type": "stream",
     "text": [
      "{'Account_number': 1234567890, 'ATM_pin': 10101, 'Account_type': 'Savings', 'Balance': 14600, 'Mobile_number': 1411202021}\n"
     ]
    }
   ],
   "source": [
    "print(content)"
   ]
  },
  {
   "cell_type": "code",
   "execution_count": null,
   "id": "ff038396-90e0-4b3f-94b1-c90cb8002c30",
   "metadata": {},
   "outputs": [],
   "source": []
  }
 ],
 "metadata": {
  "kernelspec": {
   "display_name": "Python 3 (ipykernel)",
   "language": "python",
   "name": "python3"
  },
  "language_info": {
   "codemirror_mode": {
    "name": "ipython",
    "version": 3
   },
   "file_extension": ".py",
   "mimetype": "text/x-python",
   "name": "python",
   "nbconvert_exporter": "python",
   "pygments_lexer": "ipython3",
   "version": "3.9.7"
  }
 },
 "nbformat": 4,
 "nbformat_minor": 5
}
