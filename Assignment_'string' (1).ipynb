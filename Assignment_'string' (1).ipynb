{
 "cells": [
  {
   "cell_type": "markdown",
   "id": "f1d207f1",
   "metadata": {},
   "source": [
    "1. How do you concatenate two strings in Python?"
   ]
  },
  {
   "cell_type": "code",
   "execution_count": 21,
   "id": "aff51182",
   "metadata": {},
   "outputs": [
    {
     "name": "stdout",
     "output_type": "stream",
     "text": [
      "jupyteranaconda\n"
     ]
    }
   ],
   "source": [
    "name1 = \"jupyter\"\n",
    "name2 = \"anaconda\"\n",
    "print(name1 + name2)\n"
   ]
  },
  {
   "cell_type": "markdown",
   "id": "5dc09526",
   "metadata": {},
   "source": [
    "2. What is the difference between the + operator and the join() method for concatenating strings?"
   ]
  },
  {
   "cell_type": "code",
   "execution_count": 28,
   "id": "373c3165",
   "metadata": {},
   "outputs": [
    {
     "name": "stdout",
     "output_type": "stream",
     "text": [
      "kartikaybhardwajshubham\n"
     ]
    }
   ],
   "source": [
    "list1 = [\"kartikay\",\"bhardwaj\",\"shubham\"]\n",
    "print(\"\".join(list1))"
   ]
  },
  {
   "cell_type": "markdown",
   "id": "f6431e17",
   "metadata": {},
   "source": [
    "3. How do you access individual characters in a string?"
   ]
  },
  {
   "cell_type": "code",
   "execution_count": 29,
   "id": "df495039",
   "metadata": {},
   "outputs": [
    {
     "data": {
      "text/plain": [
       "'p'"
      ]
     },
     "execution_count": 29,
     "metadata": {},
     "output_type": "execute_result"
    }
   ],
   "source": [
    "name = \"python\"\n",
    "name[0]"
   ]
  },
  {
   "cell_type": "code",
   "execution_count": 30,
   "id": "fa4e4704",
   "metadata": {},
   "outputs": [
    {
     "data": {
      "text/plain": [
       "'y'"
      ]
     },
     "execution_count": 30,
     "metadata": {},
     "output_type": "execute_result"
    }
   ],
   "source": [
    "name[1]"
   ]
  },
  {
   "cell_type": "markdown",
   "id": "22b1308e",
   "metadata": {},
   "source": [
    "4. What method is used to find the length of a string in Python?"
   ]
  },
  {
   "cell_type": "code",
   "execution_count": 31,
   "id": "a9b3a1c8",
   "metadata": {},
   "outputs": [
    {
     "data": {
      "text/plain": [
       "6"
      ]
     },
     "execution_count": 31,
     "metadata": {},
     "output_type": "execute_result"
    }
   ],
   "source": [
    "len(name)"
   ]
  },
  {
   "cell_type": "markdown",
   "id": "e4808716",
   "metadata": {},
   "source": [
    "5. How can you convert a string to uppercase in Python?"
   ]
  },
  {
   "cell_type": "code",
   "execution_count": 33,
   "id": "037b3250",
   "metadata": {},
   "outputs": [
    {
     "name": "stdout",
     "output_type": "stream",
     "text": [
      "PYTHON\n",
      "WEDNESDAY\n"
     ]
    }
   ],
   "source": [
    "name = \"python\"\n",
    "day = \"wednesday\"\n",
    "print(name.upper())\n",
    "print(day.upper())"
   ]
  },
  {
   "cell_type": "markdown",
   "id": "128a0731",
   "metadata": {},
   "source": [
    "6. How can you convert a string to lowercase in Python?"
   ]
  },
  {
   "cell_type": "code",
   "execution_count": 8,
   "id": "f43d57e2",
   "metadata": {},
   "outputs": [
    {
     "name": "stdout",
     "output_type": "stream",
     "text": [
      "this is jupyter\n"
     ]
    }
   ],
   "source": [
    "line1 = \"THIS IS JUPYTER\"\n",
    "print(line1.lower())"
   ]
  },
  {
   "cell_type": "markdown",
   "id": "992a8f22",
   "metadata": {},
   "source": [
    "7. What method is used to replace substrings within a string?"
   ]
  },
  {
   "cell_type": "code",
   "execution_count": 11,
   "id": "74deaab8",
   "metadata": {},
   "outputs": [
    {
     "name": "stdout",
     "output_type": "stream",
     "text": [
      "THIS IS JAVA\n"
     ]
    }
   ],
   "source": [
    "line1 = \"THIS IS JUPYTER\"\n",
    "print(line1.replace(\"JUPYTER\", \"JAVA\"))"
   ]
  },
  {
   "cell_type": "markdown",
   "id": "20f0a8fd",
   "metadata": {},
   "source": [
    "8. How can you split a string into a list of substrings based on a delimiter?"
   ]
  },
  {
   "cell_type": "code",
   "execution_count": 14,
   "id": "00d0e53d",
   "metadata": {},
   "outputs": [
    {
     "name": "stdout",
     "output_type": "stream",
     "text": [
      "['kartikay', 'bhardwaj']\n"
     ]
    }
   ],
   "source": [
    "name3 = \"kartikay bhardwaj\"\n",
    "print(name3.split())"
   ]
  },
  {
   "cell_type": "markdown",
   "id": "8d1d15a7",
   "metadata": {},
   "source": [
    "9. How do you check if a string starts with a particular substring?"
   ]
  },
  {
   "cell_type": "code",
   "execution_count": 15,
   "id": "0e7e61c4",
   "metadata": {},
   "outputs": [
    {
     "name": "stdout",
     "output_type": "stream",
     "text": [
      "True\n"
     ]
    }
   ],
   "source": [
    "name3 = \"kartikay bhardwaj\"\n",
    "print(name3.startswith(\"k\"))"
   ]
  },
  {
   "cell_type": "markdown",
   "id": "2c7c8b66",
   "metadata": {},
   "source": [
    "10. How do you check if a string ends with a particular substring?"
   ]
  },
  {
   "cell_type": "code",
   "execution_count": 16,
   "id": "968b61c9",
   "metadata": {},
   "outputs": [
    {
     "name": "stdout",
     "output_type": "stream",
     "text": [
      "True\n"
     ]
    }
   ],
   "source": [
    "name3 = \"kartikay bhardwaj\"\n",
    "print(name3.endswith(\"j\"))"
   ]
  },
  {
   "cell_type": "markdown",
   "id": "ce427464",
   "metadata": {},
   "source": [
    "11. How can you remove leading and trailing whitespace from a string?"
   ]
  },
  {
   "cell_type": "code",
   "execution_count": 18,
   "id": "1bd57fe8",
   "metadata": {},
   "outputs": [
    {
     "name": "stdout",
     "output_type": "stream",
     "text": [
      "'THIS IS JUPYTER'\n"
     ]
    }
   ],
   "source": [
    "line2 = \"   'THIS IS JUPYTER'   \"\n",
    "print(line2.strip())"
   ]
  },
  {
   "cell_type": "markdown",
   "id": "ff1550c5",
   "metadata": {},
   "source": [
    "12. What method is used to find the index of the first occurrence of a substring within a string?"
   ]
  },
  {
   "cell_type": "code",
   "execution_count": 34,
   "id": "36d56643",
   "metadata": {},
   "outputs": [
    {
     "name": "stdout",
     "output_type": "stream",
     "text": [
      "8\n"
     ]
    }
   ],
   "source": [
    "line3 = \"This is python class and python is a coding language\"\n",
    "print(line3.index(\"python\"))"
   ]
  },
  {
   "cell_type": "markdown",
   "id": "08606b24",
   "metadata": {},
   "source": [
    "13. How can you count the number of occurrences of a substring within a string?"
   ]
  },
  {
   "cell_type": "code",
   "execution_count": 42,
   "id": "2c1f2427",
   "metadata": {},
   "outputs": [
    {
     "name": "stdout",
     "output_type": "stream",
     "text": [
      "5\n",
      "4\n"
     ]
    }
   ],
   "source": [
    "line3 = \"This is python class and python is a coding language\"\n",
    "print(line3.count(\"s\"))\n",
    "print(line3.count(\"n\",15,len(line3)))"
   ]
  },
  {
   "cell_type": "markdown",
   "id": "9da615a6",
   "metadata": {},
   "source": [
    "14. How do you check if a string contains only alphabetic characters?"
   ]
  },
  {
   "cell_type": "code",
   "execution_count": 49,
   "id": "4c16dbe4",
   "metadata": {},
   "outputs": [
    {
     "name": "stdout",
     "output_type": "stream",
     "text": [
      "True\n",
      "False\n",
      "False\n"
     ]
    }
   ],
   "source": [
    "name4 = \"kartikaybhardwaj\"\n",
    "name5 = \"kartikay12345\"\n",
    "num = \"12345\"\n",
    "print(name4.isalpha())\n",
    "print(name5.isalpha())\n",
    "print(num.isalpha())"
   ]
  },
  {
   "cell_type": "markdown",
   "id": "47d2bb9c",
   "metadata": {},
   "source": [
    "15. How do you check if a string contains only numeric characters?"
   ]
  },
  {
   "cell_type": "code",
   "execution_count": 51,
   "id": "bb0548ee",
   "metadata": {},
   "outputs": [
    {
     "name": "stdout",
     "output_type": "stream",
     "text": [
      "True\n",
      "False\n"
     ]
    }
   ],
   "source": [
    "num = \"12345\"\n",
    "num1 = \"#$@123\"\n",
    "print(num.isnumeric())\n",
    "print(num1.isnumeric())"
   ]
  },
  {
   "cell_type": "markdown",
   "id": "689c18ad",
   "metadata": {},
   "source": [
    "16. How can you check if a string is a palindrome?"
   ]
  },
  {
   "cell_type": "code",
   "execution_count": null,
   "id": "abeb6d75",
   "metadata": {},
   "outputs": [],
   "source": []
  }
 ],
 "metadata": {
  "kernelspec": {
   "display_name": "Python 3 (ipykernel)",
   "language": "python",
   "name": "python3"
  },
  "language_info": {
   "codemirror_mode": {
    "name": "ipython",
    "version": 3
   },
   "file_extension": ".py",
   "mimetype": "text/x-python",
   "name": "python",
   "nbconvert_exporter": "python",
   "pygments_lexer": "ipython3",
   "version": "3.11.7"
  }
 },
 "nbformat": 4,
 "nbformat_minor": 5
}
