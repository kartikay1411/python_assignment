{
 "cells": [
  {
   "cell_type": "raw",
   "id": "cd1c248d-4377-4586-96db-69561310f3a6",
   "metadata": {},
   "source": [
    "Q1. In the below elements which of them are values or an expression? eg:- values can be integer or string and expressions will be mathematical operators - \n",
    "\n",
    "1. *\n",
    "2. 'hello'\n",
    "3. -87.8\n",
    "4. -\n",
    "5. /\n",
    "6. +\n",
    "7. 6"
   ]
  },
  {
   "cell_type": "code",
   "execution_count": 7,
   "id": "a6b3680d-cc5d-48df-a780-64aaebd2d04d",
   "metadata": {},
   "outputs": [],
   "source": [
    "# *       -- expression\n",
    "# 'hello' -- value\n",
    "# -87.8   -- value\n",
    "# -       -- expression\n",
    "# /       -- expression\n",
    "# +       -- expression\n",
    "# 6       -- value\n"
   ]
  },
  {
   "cell_type": "markdown",
   "id": "0b221d06-eba7-49ac-ac53-ac5f9d0f0aad",
   "metadata": {},
   "source": [
    "Q2. What is the difference between string and variable?"
   ]
  },
  {
   "cell_type": "code",
   "execution_count": 8,
   "id": "4ee62bb8-d667-4612-b89f-54543afdc6f6",
   "metadata": {},
   "outputs": [],
   "source": [
    "# String -  String is a sequence of characters. You can represent strings using either single quotes ('hello') or double quotes (\"hello\"). \n",
    "\n",
    "# Variable - A variable is a name associated with a value. A variable is created when you assign a value to it.\n"
   ]
  },
  {
   "cell_type": "markdown",
   "id": "2fb66429-6fe7-42ce-a0b1-9f9dbe3262b8",
   "metadata": {},
   "source": [
    "Q3. Describe three different data types."
   ]
  },
  {
   "cell_type": "code",
   "execution_count": 9,
   "id": "debe78d1-6278-48bf-85d7-c587d5742c33",
   "metadata": {},
   "outputs": [],
   "source": [
    "# 1.Numeric type    -- integer, float, complex number\n",
    "# 2.Sequence type   -- list, tuple, string\n",
    "# 3.Boolean type    -- true, false\n",
    "# 4.Set type        -- A Set is an unordered collection of data types that is iterable, mutable, and has no duplicate elements.\n",
    "# 5.Dictionary type -- A dictionary in Python is an unordered collection of data values, a Dictionary holds a key: value pair.\n"
   ]
  },
  {
   "cell_type": "markdown",
   "id": "7619431a-27e5-4966-926c-64c02eade4fc",
   "metadata": {},
   "source": [
    "Q4. What is an expression made up of? What do all expressions do?"
   ]
  },
  {
   "cell_type": "code",
   "execution_count": 11,
   "id": "54adfa17-f57f-46d5-8ee6-daec97242b2c",
   "metadata": {},
   "outputs": [],
   "source": [
    "# In Python, an expression is a combination of variables, values, operators, and function calls that must be evaluated. \n",
    "# The result of evaluating an expression is a value or object. \n",
    "\n",
    "# For example, if you type an expression on the command line, the interpreter will evaluate it and display the result.\n",
    "# x = x + 10\n",
    "# In this expression, the variable x has 10 added to it, and the result is then assigned back to the variable x.\n"
   ]
  },
  {
   "cell_type": "markdown",
   "id": "cefe8f53-e5a0-49ee-8b63-bbc94080491b",
   "metadata": {},
   "source": [
    "Q5. This assignment statements, like spam = 10. What is the difference between an\n",
    "expression and a statement?"
   ]
  },
  {
   "cell_type": "code",
   "execution_count": 12,
   "id": "51984e09-cbc5-43b9-ac09-de773d1d4176",
   "metadata": {},
   "outputs": [],
   "source": [
    "# Expressions are different from statements in Python. \n",
    "#Statements are used to create variables or display values, but they are not evaluated for results. \n",
    "\n",
    "# Expressions, on the other hand, are representations of value.\n"
   ]
  },
  {
   "cell_type": "markdown",
   "id": "7432a20f-cfe2-44dc-9f86-25bd6a630566",
   "metadata": {},
   "source": [
    "Q6. After running the following code, what does the variable bacon contain?\n",
    "\n",
    "bacon = 22\n",
    "\n",
    "bacon + 1"
   ]
  },
  {
   "cell_type": "code",
   "execution_count": 14,
   "id": "cb208a8a-ea47-41a1-bded-cbd5fc863082",
   "metadata": {},
   "outputs": [
    {
     "name": "stdout",
     "output_type": "stream",
     "text": [
      "22\n"
     ]
    }
   ],
   "source": [
    "bacon = 22\n",
    "bacon + 1\n",
    "print(bacon)  \n",
    "\n",
    "# The bacon variable is set to 22. \n",
    "# The bacon + 1 expression does not reassign the value in bacon (that would need an assignment statement: bacon = bacon + 1)\n"
   ]
  },
  {
   "cell_type": "markdown",
   "id": "95a42a7d-40e3-462e-9626-c40e84290bac",
   "metadata": {},
   "source": [
    "Q7. What should the values of the following two terms be?\n",
    "\n",
    "'spam' + 'spamspam'\n",
    "\n",
    "'spam' * 3"
   ]
  },
  {
   "cell_type": "code",
   "execution_count": 20,
   "id": "531665ad-700b-4f8a-8137-75459eb20fbf",
   "metadata": {},
   "outputs": [
    {
     "data": {
      "text/plain": [
       "'spamspamspam'"
      ]
     },
     "execution_count": 20,
     "metadata": {},
     "output_type": "execute_result"
    }
   ],
   "source": [
    "'spam'+'spamspam'"
   ]
  },
  {
   "cell_type": "code",
   "execution_count": 21,
   "id": "6677287b-cb68-4e15-bb88-d8c5e84a7ea1",
   "metadata": {},
   "outputs": [
    {
     "data": {
      "text/plain": [
       "'spamspamspam'"
      ]
     },
     "execution_count": 21,
     "metadata": {},
     "output_type": "execute_result"
    }
   ],
   "source": [
    "'spam'*3"
   ]
  },
  {
   "cell_type": "markdown",
   "id": "f2c62c19-dc1b-4fc3-a56e-a2722e886c9b",
   "metadata": {},
   "source": [
    "Q8. Why is eggs a valid variable name while 100 is invalid?"
   ]
  },
  {
   "cell_type": "code",
   "execution_count": 22,
   "id": "25224588-2b18-4cda-8156-50756aabd960",
   "metadata": {},
   "outputs": [],
   "source": [
    "# eggs is a valid variable because variable names can start with an underscore (_) or a letter (uppercase or lowercase).\n",
    "\n",
    "# 100 is invalid because variable names cannot begin with a number.\n"
   ]
  },
  {
   "cell_type": "markdown",
   "id": "2dd45ed7-c687-438f-8ff8-4e944e0cf091",
   "metadata": {},
   "source": [
    "Q9. What three functions can be used to get the integer, floating-point number, or string\n",
    "version of a value?"
   ]
  },
  {
   "cell_type": "code",
   "execution_count": 24,
   "id": "a6dc8b8e-f1e2-4068-a422-6c20f6902950",
   "metadata": {},
   "outputs": [],
   "source": [
    "# The int(), float(), and str() functions will evaluate to the integer, floating-point number, and string versions of the value passed to them.\n"
   ]
  },
  {
   "cell_type": "markdown",
   "id": "2b114d44-b5d7-4c05-ba80-d11705ebcf73",
   "metadata": {},
   "source": [
    "Q10. Why does this expression cause an error? How can you fix it?\n",
    "\n",
    "&#39;I have eaten &#39; + 99 + &#39; burritos.&#39;"
   ]
  },
  {
   "cell_type": "code",
   "execution_count": 27,
   "id": "f961ab5d-593a-4b55-8210-6b3bf85ab509",
   "metadata": {},
   "outputs": [
    {
     "data": {
      "text/plain": [
       "'I have eaten 99 burritos.'"
      ]
     },
     "execution_count": 27,
     "metadata": {},
     "output_type": "execute_result"
    }
   ],
   "source": [
    "# The expression causes an error because 99 is an integer, and only strings can be concatenated to other strings with the + operator. \n",
    "# The correct way is :\n",
    "'I have eaten ' + str(99) + ' burritos.'"
   ]
  },
  {
   "cell_type": "code",
   "execution_count": null,
   "id": "b1274cde-1591-449f-8907-5fe5d72185a4",
   "metadata": {},
   "outputs": [],
   "source": []
  }
 ],
 "metadata": {
  "kernelspec": {
   "display_name": "Python 3 (ipykernel)",
   "language": "python",
   "name": "python3"
  },
  "language_info": {
   "codemirror_mode": {
    "name": "ipython",
    "version": 3
   },
   "file_extension": ".py",
   "mimetype": "text/x-python",
   "name": "python",
   "nbconvert_exporter": "python",
   "pygments_lexer": "ipython3",
   "version": "3.9.7"
  }
 },
 "nbformat": 4,
 "nbformat_minor": 5
}
