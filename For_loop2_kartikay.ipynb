{
 "cells": [
  {
   "cell_type": "markdown",
   "id": "75972320",
   "metadata": {},
   "source": [
    "Question 1: Write a Python program to print all the numbers from 1 to 10 using a for loop."
   ]
  },
  {
   "cell_type": "code",
   "execution_count": 28,
   "id": "9946e23c",
   "metadata": {},
   "outputs": [
    {
     "name": "stdout",
     "output_type": "stream",
     "text": [
      "1\n",
      "2\n",
      "3\n",
      "4\n",
      "5\n",
      "6\n",
      "7\n",
      "8\n",
      "9\n",
      "10\n"
     ]
    }
   ],
   "source": [
    "for num in range(1,11):\n",
    "    \n",
    "    print(num)\n",
    "    "
   ]
  },
  {
   "cell_type": "markdown",
   "id": "b67f4e40",
   "metadata": {},
   "source": [
    "Question 2: Write a Python program to find the sum of all numbers from 1 to 100 using a for loop."
   ]
  },
  {
   "cell_type": "code",
   "execution_count": 27,
   "id": "457b2bfc",
   "metadata": {},
   "outputs": [
    {
     "name": "stdout",
     "output_type": "stream",
     "text": [
      "[1, 2, 3, 4, 5, 6, 7, 8, 9, 10, 11, 12, 13, 14, 15, 16, 17, 18, 19, 20, 21, 22, 23, 24, 25, 26, 27, 28, 29, 30, 31, 32, 33, 34, 35, 36, 37, 38, 39, 40, 41, 42, 43, 44, 45, 46, 47, 48, 49, 50, 51, 52, 53, 54, 55, 56, 57, 58, 59, 60, 61, 62, 63, 64, 65, 66, 67, 68, 69, 70, 71, 72, 73, 74, 75, 76, 77, 78, 79, 80, 81, 82, 83, 84, 85, 86, 87, 88, 89, 90, 91, 92, 93, 94, 95, 96, 97, 98, 99, 100]\n",
      "5050\n"
     ]
    }
   ],
   "source": [
    "list1 = []\n",
    "\n",
    "for num in range(1,101):\n",
    "    \n",
    "    list1.append(num)\n",
    "    \n",
    "print(list1)\n",
    "    \n",
    "print(sum(list1))\n",
    "    "
   ]
  },
  {
   "cell_type": "markdown",
   "id": "54df9b3a",
   "metadata": {},
   "source": [
    " Question 3: Write a Python program to print the multiplication table of a given number using a for loop."
   ]
  },
  {
   "cell_type": "code",
   "execution_count": 26,
   "id": "47a4a892",
   "metadata": {},
   "outputs": [
    {
     "name": "stdout",
     "output_type": "stream",
     "text": [
      "Enter the number : 6\n",
      "6 X 1 = 6\n",
      "6 X 2 = 12\n",
      "6 X 3 = 18\n",
      "6 X 4 = 24\n",
      "6 X 5 = 30\n",
      "6 X 6 = 36\n",
      "6 X 7 = 42\n",
      "6 X 8 = 48\n",
      "6 X 9 = 54\n",
      "6 X 10 = 60\n"
     ]
    }
   ],
   "source": [
    "table = int(input(\"Enter the number : \"))\n",
    "\n",
    "for i in range(1,11):\n",
    "    \n",
    "    print(table, \"X\", i, \"=\", table*i)\n",
    "    "
   ]
  },
  {
   "cell_type": "markdown",
   "id": "0e26be57",
   "metadata": {},
   "source": [
    "Question 4: Write a Python program to count the number of even and odd numbers from a series of numbers using a for loop.\n",
    "\n",
    "Hint: Find even and odd from this list: [1, 2, 3, 4, 5, 6, 7, 8, 9, 10]"
   ]
  },
  {
   "cell_type": "code",
   "execution_count": 29,
   "id": "b24d3af4",
   "metadata": {},
   "outputs": [
    {
     "name": "stdout",
     "output_type": "stream",
     "text": [
      "Count of even numbers is : 5\n",
      "Count of odd numbers is : 5\n"
     ]
    }
   ],
   "source": [
    "list2 = [1, 2, 3, 4, 5, 6, 7, 8, 9, 10]\n",
    "\n",
    "even_count, odd_count = 0, 0\n",
    "\n",
    "for i in list2:\n",
    "    \n",
    "    if i % 2 == 0:\n",
    "        even_count += 1\n",
    "        \n",
    "    else:\n",
    "        odd_count += 1\n",
    "        \n",
    "print(\"Count of even numbers is :\", even_count)\n",
    "print(\"Count of odd numbers is :\", odd_count)  \n"
   ]
  },
  {
   "cell_type": "markdown",
   "id": "2d279283",
   "metadata": {},
   "source": [
    " Question 5: Write a Python program to find the factorial of a number using a for loop."
   ]
  },
  {
   "cell_type": "code",
   "execution_count": 34,
   "id": "b93caec2",
   "metadata": {},
   "outputs": [
    {
     "name": "stdout",
     "output_type": "stream",
     "text": [
      "Enter your number : 6\n",
      "Factorial of the entered number is : 720\n"
     ]
    }
   ],
   "source": [
    "num = int(input(\"Enter your number : \"))\n",
    "factorial = 1\n",
    "\n",
    "for i in range(1, num + 1):\n",
    "    \n",
    "    factorial = factorial * i\n",
    "    \n",
    "print(\"Factorial of the entered number is :\",factorial)\n"
   ]
  },
  {
   "cell_type": "markdown",
   "id": "328555ee",
   "metadata": {},
   "source": [
    "Question 6: Write a Python program to print the Fibonacci sequence up to a specified number using a for loop."
   ]
  },
  {
   "cell_type": "code",
   "execution_count": 121,
   "id": "1bde2f34",
   "metadata": {},
   "outputs": [
    {
     "name": "stdout",
     "output_type": "stream",
     "text": [
      "Enter your number : 11\n",
      "0 1 1 2 3 5 8 13 21 34 55 "
     ]
    }
   ],
   "source": [
    "num = int(input(\"Enter your number : \"))\n",
    "n1, n2 = 0, 1\n",
    "\n",
    "if num == 1:\n",
    "    print(n1)\n",
    "    \n",
    "else:\n",
    "    print(n1, n2, end =\" \")\n",
    "    \n",
    "    for i in range(2, num):\n",
    "        n3 = n1 + n2\n",
    "        n1 = n2\n",
    "        n2 = n3\n",
    "        print(n3, end =\" \")\n",
    "        "
   ]
  },
  {
   "cell_type": "markdown",
   "id": "30ac0da9",
   "metadata": {},
   "source": [
    "Question 7: Write a Python program to check if a given number is prime or not using a for loop."
   ]
  },
  {
   "cell_type": "code",
   "execution_count": 89,
   "id": "e81074dc",
   "metadata": {
    "scrolled": true
   },
   "outputs": [
    {
     "name": "stdout",
     "output_type": "stream",
     "text": [
      "Enter your number : 29\n",
      "29 is a prime number\n"
     ]
    }
   ],
   "source": [
    "number = int(input(\"Enter your number : \"))\n",
    "\n",
    "if number > 1:\n",
    "    \n",
    "    for i in range(2, number):\n",
    "        \n",
    "        if (number % i) == 0:\n",
    "            print(number, \"is not a prime number\")\n",
    "            \n",
    "            break\n",
    "    else:\n",
    "        print(number, \"is a prime number\")\n",
    "        \n",
    "else:\n",
    "    print(number, \"is not a prime number\")\n",
    "    "
   ]
  },
  {
   "cell_type": "markdown",
   "id": "db8bf93f",
   "metadata": {},
   "source": [
    "Question 8: Write a Python program to find the largest element in a list using a for loop."
   ]
  },
  {
   "cell_type": "code",
   "execution_count": 90,
   "id": "94dcddcd",
   "metadata": {
    "scrolled": true
   },
   "outputs": [
    {
     "name": "stdout",
     "output_type": "stream",
     "text": [
      "1\n",
      "12\n",
      "34\n",
      "48\n",
      "56\n",
      "100\n",
      "123\n",
      "145\n",
      "largest number : 145\n"
     ]
    }
   ],
   "source": [
    "your_list = [1, 12, 34, 26, 29, 48, 56, 32, 15, 17, 100, 123, 121, 145]\n",
    "largest_num = 0\n",
    "\n",
    "for i in your_list:     \n",
    "    \n",
    "    if i > largest_num:\n",
    "        print(i)  \n",
    "        largest_num = i \n",
    "        \n",
    "print(\"largest number :\",largest_num)  \n"
   ]
  },
  {
   "cell_type": "markdown",
   "id": "77372ab5",
   "metadata": {},
   "source": [
    "Question 9: Write a Python program to reverse a given string using a for loop."
   ]
  },
  {
   "cell_type": "code",
   "execution_count": 118,
   "id": "60a82ace",
   "metadata": {},
   "outputs": [
    {
     "name": "stdout",
     "output_type": "stream",
     "text": [
      "koobeton\n"
     ]
    }
   ],
   "source": [
    "string1 = \"notebook\"\n",
    " \n",
    "reverse_string = \"\"\n",
    " \n",
    "for i in string1:\n",
    "    \n",
    "    reverse_string = i + reverse_string\n",
    "    \n",
    "print(reverse_string)\n"
   ]
  },
  {
   "cell_type": "markdown",
   "id": "712535fc",
   "metadata": {},
   "source": [
    "Question 10: Write a Python program to find the common elements between two lists using a for loop.\n",
    "\n",
    "List1 = [1,2,3]\n",
    "\n",
    "List2 = [4,5,1] # common element is 1"
   ]
  },
  {
   "cell_type": "code",
   "execution_count": 120,
   "id": "3a78c387",
   "metadata": {},
   "outputs": [
    {
     "name": "stdout",
     "output_type": "stream",
     "text": [
      "[1]\n"
     ]
    }
   ],
   "source": [
    "list1 = [1,2,3]\n",
    "list2 = [4,5,1]\n",
    "common_list = []\n",
    " \n",
    "for num in list1:\n",
    "    \n",
    "    if num in list2:\n",
    "        \n",
    "        common_list.append(num)\n",
    "\n",
    "print(common_list)\n"
   ]
  },
  {
   "cell_type": "code",
   "execution_count": null,
   "id": "c0282fe8",
   "metadata": {},
   "outputs": [],
   "source": []
  }
 ],
 "metadata": {
  "kernelspec": {
   "display_name": "Python 3 (ipykernel)",
   "language": "python",
   "name": "python3"
  },
  "language_info": {
   "codemirror_mode": {
    "name": "ipython",
    "version": 3
   },
   "file_extension": ".py",
   "mimetype": "text/x-python",
   "name": "python",
   "nbconvert_exporter": "python",
   "pygments_lexer": "ipython3",
   "version": "3.11.7"
  }
 },
 "nbformat": 4,
 "nbformat_minor": 5
}
