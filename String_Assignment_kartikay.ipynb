{
 "cells": [
  {
   "cell_type": "markdown",
   "id": "f372f203",
   "metadata": {},
   "source": [
    "1. How do you concatenate two strings in Python?"
   ]
  },
  {
   "cell_type": "code",
   "execution_count": 21,
   "id": "e7e64e77",
   "metadata": {},
   "outputs": [
    {
     "name": "stdout",
     "output_type": "stream",
     "text": [
      "jupyteranaconda\n"
     ]
    }
   ],
   "source": [
    "name1 = \"jupyter\"\n",
    "name2 = \"anaconda\"\n",
    "print(name1 + name2)\n"
   ]
  },
  {
   "cell_type": "markdown",
   "id": "128d0805",
   "metadata": {},
   "source": [
    "2. What is the difference between the + operator and the join() method for concatenating strings?"
   ]
  },
  {
   "cell_type": "code",
   "execution_count": 28,
   "id": "3436e3c0",
   "metadata": {},
   "outputs": [
    {
     "name": "stdout",
     "output_type": "stream",
     "text": [
      "kartikaybhardwajshubham\n"
     ]
    }
   ],
   "source": [
    "list1 = [\"kartikay\",\"bhardwaj\",\"shubham\"]\n",
    "print(\"\".join(list1))"
   ]
  },
  {
   "cell_type": "markdown",
   "id": "92f5912b",
   "metadata": {},
   "source": [
    "3. How do you access individual characters in a string?"
   ]
  },
  {
   "cell_type": "code",
   "execution_count": 29,
   "id": "9b0c636d",
   "metadata": {},
   "outputs": [
    {
     "data": {
      "text/plain": [
       "'p'"
      ]
     },
     "execution_count": 29,
     "metadata": {},
     "output_type": "execute_result"
    }
   ],
   "source": [
    "name = \"python\"\n",
    "name[0]"
   ]
  },
  {
   "cell_type": "code",
   "execution_count": 30,
   "id": "bc682777",
   "metadata": {},
   "outputs": [
    {
     "data": {
      "text/plain": [
       "'y'"
      ]
     },
     "execution_count": 30,
     "metadata": {},
     "output_type": "execute_result"
    }
   ],
   "source": [
    "name[1]"
   ]
  },
  {
   "cell_type": "markdown",
   "id": "6ad99ebd",
   "metadata": {},
   "source": [
    "4. What method is used to find the length of a string in Python?"
   ]
  },
  {
   "cell_type": "code",
   "execution_count": 31,
   "id": "f7beeaad",
   "metadata": {},
   "outputs": [
    {
     "data": {
      "text/plain": [
       "6"
      ]
     },
     "execution_count": 31,
     "metadata": {},
     "output_type": "execute_result"
    }
   ],
   "source": [
    "len(name)"
   ]
  },
  {
   "cell_type": "markdown",
   "id": "6b231e47",
   "metadata": {},
   "source": [
    "5. How can you convert a string to uppercase in Python?"
   ]
  },
  {
   "cell_type": "code",
   "execution_count": 33,
   "id": "2824041c",
   "metadata": {},
   "outputs": [
    {
     "name": "stdout",
     "output_type": "stream",
     "text": [
      "PYTHON\n",
      "WEDNESDAY\n"
     ]
    }
   ],
   "source": [
    "name = \"python\"\n",
    "day = \"wednesday\"\n",
    "print(name.upper())\n",
    "print(day.upper())"
   ]
  },
  {
   "cell_type": "markdown",
   "id": "ce46aa67",
   "metadata": {},
   "source": [
    "6. How can you convert a string to lowercase in Python?"
   ]
  },
  {
   "cell_type": "code",
   "execution_count": 8,
   "id": "8212da88",
   "metadata": {},
   "outputs": [
    {
     "name": "stdout",
     "output_type": "stream",
     "text": [
      "this is jupyter\n"
     ]
    }
   ],
   "source": [
    "line1 = \"THIS IS JUPYTER\"\n",
    "print(line1.lower())"
   ]
  },
  {
   "cell_type": "markdown",
   "id": "7b02b3bf",
   "metadata": {},
   "source": [
    "7. What method is used to replace substrings within a string?"
   ]
  },
  {
   "cell_type": "code",
   "execution_count": 11,
   "id": "acde6b61",
   "metadata": {},
   "outputs": [
    {
     "name": "stdout",
     "output_type": "stream",
     "text": [
      "THIS IS JAVA\n"
     ]
    }
   ],
   "source": [
    "line1 = \"THIS IS JUPYTER\"\n",
    "print(line1.replace(\"JUPYTER\", \"JAVA\"))"
   ]
  },
  {
   "cell_type": "markdown",
   "id": "50692cf0",
   "metadata": {},
   "source": [
    "8. How can you split a string into a list of substrings based on a delimiter?"
   ]
  },
  {
   "cell_type": "code",
   "execution_count": 14,
   "id": "7cbdb4fe",
   "metadata": {},
   "outputs": [
    {
     "name": "stdout",
     "output_type": "stream",
     "text": [
      "['kartikay', 'bhardwaj']\n"
     ]
    }
   ],
   "source": [
    "name3 = \"kartikay bhardwaj\"\n",
    "print(name3.split())"
   ]
  },
  {
   "cell_type": "markdown",
   "id": "8ff8b03b",
   "metadata": {},
   "source": [
    "9. How do you check if a string starts with a particular substring?"
   ]
  },
  {
   "cell_type": "code",
   "execution_count": 15,
   "id": "d105f324",
   "metadata": {},
   "outputs": [
    {
     "name": "stdout",
     "output_type": "stream",
     "text": [
      "True\n"
     ]
    }
   ],
   "source": [
    "name3 = \"kartikay bhardwaj\"\n",
    "print(name3.startswith(\"k\"))"
   ]
  },
  {
   "cell_type": "markdown",
   "id": "2bb5c244",
   "metadata": {},
   "source": [
    "10. How do you check if a string ends with a particular substring?"
   ]
  },
  {
   "cell_type": "code",
   "execution_count": 16,
   "id": "87915876",
   "metadata": {},
   "outputs": [
    {
     "name": "stdout",
     "output_type": "stream",
     "text": [
      "True\n"
     ]
    }
   ],
   "source": [
    "name3 = \"kartikay bhardwaj\"\n",
    "print(name3.endswith(\"j\"))"
   ]
  },
  {
   "cell_type": "markdown",
   "id": "4abb2505",
   "metadata": {},
   "source": [
    "11. How can you remove leading and trailing whitespace from a string?"
   ]
  },
  {
   "cell_type": "code",
   "execution_count": 18,
   "id": "50740ad5",
   "metadata": {},
   "outputs": [
    {
     "name": "stdout",
     "output_type": "stream",
     "text": [
      "'THIS IS JUPYTER'\n"
     ]
    }
   ],
   "source": [
    "line2 = \"   'THIS IS JUPYTER'   \"\n",
    "print(line2.strip())"
   ]
  },
  {
   "cell_type": "markdown",
   "id": "e1a9af8d",
   "metadata": {},
   "source": [
    "12. What method is used to find the index of the first occurrence of a substring within a string?"
   ]
  },
  {
   "cell_type": "code",
   "execution_count": 34,
   "id": "f857a2e2",
   "metadata": {},
   "outputs": [
    {
     "name": "stdout",
     "output_type": "stream",
     "text": [
      "8\n"
     ]
    }
   ],
   "source": [
    "line3 = \"This is python class and python is a coding language\"\n",
    "print(line3.index(\"python\"))"
   ]
  },
  {
   "cell_type": "markdown",
   "id": "31d5722c",
   "metadata": {},
   "source": [
    "13. How can you count the number of occurrences of a substring within a string?"
   ]
  },
  {
   "cell_type": "code",
   "execution_count": 42,
   "id": "2fb7e2de",
   "metadata": {},
   "outputs": [
    {
     "name": "stdout",
     "output_type": "stream",
     "text": [
      "5\n",
      "4\n"
     ]
    }
   ],
   "source": [
    "line3 = \"This is python class and python is a coding language\"\n",
    "print(line3.count(\"s\"))\n",
    "print(line3.count(\"n\",15,len(line3)))"
   ]
  },
  {
   "cell_type": "markdown",
   "id": "0435e8ba",
   "metadata": {},
   "source": [
    "14. How do you check if a string contains only alphabetic characters?"
   ]
  },
  {
   "cell_type": "code",
   "execution_count": 49,
   "id": "4914db68",
   "metadata": {},
   "outputs": [
    {
     "name": "stdout",
     "output_type": "stream",
     "text": [
      "True\n",
      "False\n",
      "False\n"
     ]
    }
   ],
   "source": [
    "name4 = \"kartikaybhardwaj\"\n",
    "name5 = \"kartikay12345\"\n",
    "num = \"12345\"\n",
    "print(name4.isalpha())\n",
    "print(name5.isalpha())\n",
    "print(num.isalpha())"
   ]
  },
  {
   "cell_type": "markdown",
   "id": "b7624b8d",
   "metadata": {},
   "source": [
    "15. How do you check if a string contains only numeric characters?"
   ]
  },
  {
   "cell_type": "code",
   "execution_count": 51,
   "id": "5755ed0a",
   "metadata": {},
   "outputs": [
    {
     "name": "stdout",
     "output_type": "stream",
     "text": [
      "True\n",
      "False\n"
     ]
    }
   ],
   "source": [
    "num = \"12345\"\n",
    "num1 = \"#$@123\"\n",
    "print(num.isnumeric())\n",
    "print(num1.isnumeric())"
   ]
  },
  {
   "cell_type": "markdown",
   "id": "f6cbded8",
   "metadata": {},
   "source": [
    "16. How can you check if a string is a palindrome?"
   ]
  },
  {
   "cell_type": "code",
   "execution_count": 2,
   "id": "aafa0445",
   "metadata": {},
   "outputs": [
    {
     "name": "stdout",
     "output_type": "stream",
     "text": [
      "malayalam\n",
      "True\n"
     ]
    }
   ],
   "source": [
    "string = \"malayalam\"\n",
    "reverse_string = (string[::-1])\n",
    "print(reverse_string)\n",
    "print(string == reverse_string)"
   ]
  },
  {
   "cell_type": "markdown",
   "id": "34011be2",
   "metadata": {},
   "source": [
    "17. How can you reverse a string in Python?"
   ]
  },
  {
   "cell_type": "code",
   "execution_count": 5,
   "id": "bb577dd7",
   "metadata": {},
   "outputs": [
    {
     "name": "stdout",
     "output_type": "stream",
     "text": [
      "tnemetats modnar\n"
     ]
    }
   ],
   "source": [
    "string1 = \"random statement\"\n",
    "print(string1[::-1])"
   ]
  },
  {
   "cell_type": "markdown",
   "id": "9aa3dfa2",
   "metadata": {},
   "source": [
    "18. How do you format a string with placeholders for variable values?"
   ]
  },
  {
   "cell_type": "code",
   "execution_count": 13,
   "id": "13cfbd2d",
   "metadata": {},
   "outputs": [
    {
     "name": "stdout",
     "output_type": "stream",
     "text": [
      "My name is kartikay bhardwaj and I am 23 years old\n"
     ]
    }
   ],
   "source": [
    "name3 = \"kartikay bhardwaj\"\n",
    "age = 23\n",
    "\n",
    "msg = \"My name is name and I am age years old\"\n",
    "msg1 = \"My name is {} and I am {} years old\".format(name3,age)\n",
    "print(msg1)"
   ]
  },
  {
   "cell_type": "markdown",
   "id": "24a56972",
   "metadata": {},
   "source": [
    "19. How do you access a substring of a string using slicing?"
   ]
  },
  {
   "cell_type": "code",
   "execution_count": 9,
   "id": "ab127d2d",
   "metadata": {},
   "outputs": [
    {
     "name": "stdout",
     "output_type": "stream",
     "text": [
      "python\n"
     ]
    }
   ],
   "source": [
    "line3 = \"This is python class and python is a coding language\"\n",
    "print(line3[8:14])"
   ]
  },
  {
   "cell_type": "markdown",
   "id": "68ba6a6a",
   "metadata": {},
   "source": [
    "20. How can you remove specific characters from a string in Python?"
   ]
  },
  {
   "cell_type": "code",
   "execution_count": 11,
   "id": "94710946",
   "metadata": {},
   "outputs": [
    {
     "name": "stdout",
     "output_type": "stream",
     "text": [
      "python is awesome\n"
     ]
    }
   ],
   "source": [
    "string2 = \"python12345is12345awesome\"\n",
    "print(string2.replace(\"12345\",\" \"))"
   ]
  },
  {
   "cell_type": "code",
   "execution_count": null,
   "id": "6f5d4440",
   "metadata": {},
   "outputs": [],
   "source": []
  }
 ],
 "metadata": {
  "kernelspec": {
   "display_name": "Python 3 (ipykernel)",
   "language": "python",
   "name": "python3"
  },
  "language_info": {
   "codemirror_mode": {
    "name": "ipython",
    "version": 3
   },
   "file_extension": ".py",
   "mimetype": "text/x-python",
   "name": "python",
   "nbconvert_exporter": "python",
   "pygments_lexer": "ipython3",
   "version": "3.11.7"
  }
 },
 "nbformat": 4,
 "nbformat_minor": 5
}
