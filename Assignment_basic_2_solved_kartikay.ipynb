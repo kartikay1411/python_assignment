{
 "cells": [
  {
   "cell_type": "markdown",
   "id": "1a5f2d93-1610-48fc-a87e-09b9228a7089",
   "metadata": {},
   "source": [
    "# 1.What are the two values of the Boolean data type? How do you write them?"
   ]
  },
  {
   "cell_type": "code",
   "execution_count": 48,
   "id": "c5d80d3a-6ce2-4cff-a50d-b330fdfdfebf",
   "metadata": {},
   "outputs": [],
   "source": [
    "# There are only two boolean values. They are True and False. "
   ]
  },
  {
   "cell_type": "code",
   "execution_count": 49,
   "id": "e6892936-f6b6-45a7-8a3f-5c213f7dec66",
   "metadata": {},
   "outputs": [
    {
     "data": {
      "text/plain": [
       "True"
      ]
     },
     "execution_count": 49,
     "metadata": {},
     "output_type": "execute_result"
    }
   ],
   "source": [
    "3+4 == 7"
   ]
  },
  {
   "cell_type": "code",
   "execution_count": 50,
   "id": "8ed1c8e3-904b-4b64-9d0e-a9e724361d4d",
   "metadata": {},
   "outputs": [
    {
     "data": {
      "text/plain": [
       "False"
      ]
     },
     "execution_count": 50,
     "metadata": {},
     "output_type": "execute_result"
    }
   ],
   "source": [
    "5 == 6"
   ]
  },
  {
   "cell_type": "markdown",
   "id": "454a9526-3f79-411b-98fd-18959d031201",
   "metadata": {},
   "source": [
    "# 2.What are the three different types of Boolean operators?"
   ]
  },
  {
   "cell_type": "code",
   "execution_count": 51,
   "id": "eec3ee80-6dde-4940-8a01-0bba6ef98458",
   "metadata": {},
   "outputs": [],
   "source": [
    "# Python has three logical or boolean operators, \"and\", \"or\" and \"not\" operators. \n",
    "# These work on one or more operands, and depending on their values, evaluate to True or False."
   ]
  },
  {
   "cell_type": "code",
   "execution_count": 52,
   "id": "332d2c9b-2573-484e-bdd5-f8090dba27f6",
   "metadata": {},
   "outputs": [],
   "source": [
    "# The Python \"and\" operator is a binary operator, which means it requires two operands. \n",
    "# operand1 and operand2\n",
    "# The output is True if and only if both the operands are True. If any operand is False, then the output is False"
   ]
  },
  {
   "cell_type": "code",
   "execution_count": 53,
   "id": "303a0335-f4e0-4b03-aced-ce886a45423a",
   "metadata": {},
   "outputs": [
    {
     "data": {
      "text/plain": [
       "True"
      ]
     },
     "execution_count": 53,
     "metadata": {},
     "output_type": "execute_result"
    }
   ],
   "source": [
    "34 + 43 == 77 and 43 + 7 == 50"
   ]
  },
  {
   "cell_type": "code",
   "execution_count": 54,
   "id": "5ac6e1f8-599f-4811-a936-eb8f734f55f5",
   "metadata": {},
   "outputs": [],
   "source": [
    "# The \"or\" operator is also a binary operator and needs 2 operands. \n",
    "# operand1 or operand2\n",
    "# The output of the \"or\" expression is True if any of its operands are True, else the output is False."
   ]
  },
  {
   "cell_type": "code",
   "execution_count": 55,
   "id": "c0e21a92-62e4-4dd3-90b1-db8a798216ca",
   "metadata": {},
   "outputs": [
    {
     "data": {
      "text/plain": [
       "True"
      ]
     },
     "execution_count": 55,
     "metadata": {},
     "output_type": "execute_result"
    }
   ],
   "source": [
    "45 > 34 or 43 < 21"
   ]
  },
  {
   "cell_type": "code",
   "execution_count": 56,
   "id": "5e0e340a-500f-4ac8-8b7b-d0057599b666",
   "metadata": {},
   "outputs": [],
   "source": [
    "# The \"not\" is a unary operator, which means that it works with 1 operand and returns the inverted truth value for that operand.\n",
    "# not ( operand )\n",
    "# In simple terms, if the input is True, then the output is False and if the input is False, then the output is True."
   ]
  },
  {
   "cell_type": "code",
   "execution_count": 57,
   "id": "c0c774d2-8406-4dd5-8a4e-4d0ac2a8dfa4",
   "metadata": {},
   "outputs": [
    {
     "data": {
      "text/plain": [
       "False"
      ]
     },
     "execution_count": 57,
     "metadata": {},
     "output_type": "execute_result"
    }
   ],
   "source": [
    "not (4 > 1)"
   ]
  },
  {
   "cell_type": "markdown",
   "id": "e0c98b19-9b08-4198-8cf9-db08308ced8c",
   "metadata": {},
   "source": [
    "# 3. Make a list of each Boolean operator&#39;s truth tables (i.e. every possible combination of Boolean values for the operator and what it evaluate )."
   ]
  },
  {
   "cell_type": "code",
   "execution_count": 90,
   "id": "912c2139-1ceb-4501-aa34-edcf5eae2564",
   "metadata": {},
   "outputs": [],
   "source": [
    "# \"and\" operator\n",
    "\n",
    "# True and True\t     -->>  True\n",
    "# True and False\t -->>  False\n",
    "# False and\tTrue\t -->>  False\n",
    "# False and\tFalse\t -->>  False\n",
    "\n",
    "# \"or\" operator\n",
    "\n",
    "# True or True\t    -->>  True\n",
    "# True or False\t    -->>  True\n",
    "# False\tor True \t-->>  True\n",
    "# False\tor False\t-->>  False\n",
    "\n",
    "# \"not\" operator\n",
    "\n",
    "# True\t  --->>>    False\n",
    "# False\t  --->>>    True"
   ]
  },
  {
   "cell_type": "markdown",
   "id": "cb306fcb-8586-4651-b373-263b515eea00",
   "metadata": {},
   "source": [
    "# 4. What are the values of the following expressions?\n",
    "1. (5 &gt; 4) and (3 == 5)\n",
    "2. not (5 &gt; 4)\n",
    "3. (5 &gt; 4) or (3 == 5)\n",
    "4. not ((5 &gt; 4) or (3 == 5))\n",
    "5. (True and True) and (True == False)\n",
    "6. (not False) or (not True)"
   ]
  },
  {
   "cell_type": "code",
   "execution_count": 58,
   "id": "0a7ca621-e111-4a75-8fb4-c57a41ab5b22",
   "metadata": {},
   "outputs": [
    {
     "data": {
      "text/plain": [
       "False"
      ]
     },
     "execution_count": 58,
     "metadata": {},
     "output_type": "execute_result"
    }
   ],
   "source": [
    "(5 > 4) and (3 == 5) # Result will be false as only one condition is true"
   ]
  },
  {
   "cell_type": "code",
   "execution_count": 59,
   "id": "f3a00993-8935-4775-ae70-c6bade5b78b8",
   "metadata": {},
   "outputs": [
    {
     "data": {
      "text/plain": [
       "False"
      ]
     },
     "execution_count": 59,
     "metadata": {},
     "output_type": "execute_result"
    }
   ],
   "source": [
    "not (5 > 4) # Result will be false because of \"not\" operator"
   ]
  },
  {
   "cell_type": "code",
   "execution_count": 60,
   "id": "d941cf33-7db6-4da9-90c3-a14a5af6a77e",
   "metadata": {},
   "outputs": [
    {
     "data": {
      "text/plain": [
       "True"
      ]
     },
     "execution_count": 60,
     "metadata": {},
     "output_type": "execute_result"
    }
   ],
   "source": [
    "(5 > 4) or (3 == 5) # Result will be true as one of the condition is true"
   ]
  },
  {
   "cell_type": "code",
   "execution_count": 61,
   "id": "ddb9d479-5638-4b36-9d63-a9aa0d3bd617",
   "metadata": {},
   "outputs": [
    {
     "data": {
      "text/plain": [
       "False"
      ]
     },
     "execution_count": 61,
     "metadata": {},
     "output_type": "execute_result"
    }
   ],
   "source": [
    "(True and True) and (True == False) # Result will be false as only one condition is true"
   ]
  },
  {
   "cell_type": "code",
   "execution_count": 62,
   "id": "f354b676-2642-46d4-8d9f-bebc1fbb025c",
   "metadata": {},
   "outputs": [
    {
     "data": {
      "text/plain": [
       "True"
      ]
     },
     "execution_count": 62,
     "metadata": {},
     "output_type": "execute_result"
    }
   ],
   "source": [
    "(not False) or (not True) # Result will be true because (not False) will return true value"
   ]
  },
  {
   "cell_type": "markdown",
   "id": "e17f08a8-b917-49dd-b9ab-a3f462ca48c1",
   "metadata": {},
   "source": [
    "# 5. What are the six comparison operators?"
   ]
  },
  {
   "cell_type": "code",
   "execution_count": 64,
   "id": "d837e12f-f1c8-4a6e-a456-24ad139fd531",
   "metadata": {},
   "outputs": [],
   "source": [
    "#1.    ==      equal to\t                  \n",
    "#2.    !=      not equal to\t              \n",
    "#3.    >\t   greater than\t             \n",
    "#4.    >=      greater than or equal to\t  \n",
    "#5.    <\t   less than\t                 \n",
    "#6.    <=      less than or equal to\t    "
   ]
  },
  {
   "cell_type": "markdown",
   "id": "d50512bf-0cc9-46fb-95cf-a6efa4dcd663",
   "metadata": {},
   "source": [
    "# 6. How do you tell the difference between the equal to and assignment operators? Describe a condition and when you would use one."
   ]
  },
  {
   "cell_type": "code",
   "execution_count": 66,
   "id": "50c6c014-2ce1-418d-bb1a-96981289687a",
   "metadata": {},
   "outputs": [
    {
     "data": {
      "text/plain": [
       "False"
      ]
     },
     "execution_count": 66,
     "metadata": {},
     "output_type": "execute_result"
    }
   ],
   "source": [
    "# The “ = ” is an assignment operator used to assign the value on the right to the variable on the left. \n",
    "\n",
    "a = 10\n",
    "b = 20\n",
    "\n",
    "# The “ == ” operator checks whether the two given operands are equal or not. If so, it returns true. Otherwise it returns false. \n",
    "\n",
    "a == b"
   ]
  },
  {
   "cell_type": "markdown",
   "id": "ba3b1b70-6cd6-47b5-a46d-857bef97dc8a",
   "metadata": {},
   "source": [
    "# 7. Identify the three blocks in this code:"
   ]
  },
  {
   "cell_type": "markdown",
   "id": "de0d52d1-ced6-42cd-806b-f070ef911e19",
   "metadata": {},
   "source": [
    "spam = 0\n",
    "\n",
    "if spam == 10:\n",
    "\n",
    "print(&#39;eggs&#39;)\n",
    "\n",
    "if spam &gt; 5:\n",
    "\n",
    "print(&#39;bacon&#39;)\n",
    "\n",
    "else:\n",
    "\n",
    "print(&#39;ham&#39;)\n",
    "\n",
    "print(&#39;spam&#39;)\n",
    "\n",
    "print(&#39;spam&#39;)"
   ]
  },
  {
   "cell_type": "code",
   "execution_count": 70,
   "id": "55217448-f567-4ef6-83cd-a9633d1592f8",
   "metadata": {},
   "outputs": [
    {
     "name": "stdout",
     "output_type": "stream",
     "text": [
      "ham\n",
      "spam\n",
      "spam\n"
     ]
    }
   ],
   "source": [
    "spam = 0\n",
    "\n",
    "# block 1\n",
    "if spam == 10:\n",
    "    print('eggs')\n",
    "    \n",
    "#block 2\n",
    "if spam > 5:\n",
    "    print('bacon')\n",
    "    \n",
    "#block3\n",
    "else:\n",
    "    print('ham')\n",
    "    print('spam')\n",
    "    print('spam')"
   ]
  },
  {
   "cell_type": "markdown",
   "id": "6c327456-fbfb-4679-947d-98722d7ff5b2",
   "metadata": {},
   "source": [
    "# 8. Write code that prints Hello if 1 is stored in spam, prints Howdy if 2 is stored in spam, and prints Greetings! if anything else is stored in spam."
   ]
  },
  {
   "cell_type": "code",
   "execution_count": 77,
   "id": "fd733487-abaa-422c-a4eb-331f637de29f",
   "metadata": {},
   "outputs": [
    {
     "name": "stdout",
     "output_type": "stream",
     "text": [
      "Hello\n"
     ]
    }
   ],
   "source": [
    "spam = 1\n",
    "\n",
    "if spam == 1:\n",
    "    print(\"Hello\")\n",
    "\n",
    "elif spam == 2:\n",
    "    print(\"Howdy\")\n",
    "\n",
    "else:\n",
    "    print(\"Greetings!\")"
   ]
  },
  {
   "cell_type": "markdown",
   "id": "bec474b8-2af3-41ae-ac5d-208bfe393b8b",
   "metadata": {},
   "source": [
    "# 9.If your programme is stuck in an endless loop, what keys you’ll press?"
   ]
  },
  {
   "cell_type": "code",
   "execution_count": 78,
   "id": "1cc1757d-a354-46e8-9d94-f4c551bddc10",
   "metadata": {},
   "outputs": [],
   "source": [
    "# (Ctrl + C) or (Ctrl+ break)."
   ]
  },
  {
   "cell_type": "markdown",
   "id": "c1a7eb86-1be3-4a59-9520-274e998f272f",
   "metadata": {},
   "source": [
    "# 10. How can you tell the difference between break and continue?"
   ]
  },
  {
   "cell_type": "code",
   "execution_count": 79,
   "id": "bb931da9-d3e5-4253-b9f3-a64b4b8ffd21",
   "metadata": {},
   "outputs": [
    {
     "name": "stdout",
     "output_type": "stream",
     "text": [
      "0\n",
      "1\n",
      "2\n"
     ]
    }
   ],
   "source": [
    "# Break -->> The break statement terminates the loop immediately when it's encountered.\n",
    "\n",
    "for i in range(5):\n",
    "    if i == 3:\n",
    "        break\n",
    "    print(i)"
   ]
  },
  {
   "cell_type": "code",
   "execution_count": 80,
   "id": "e7b47b05-8d11-401e-a635-15ddcef772c3",
   "metadata": {},
   "outputs": [
    {
     "name": "stdout",
     "output_type": "stream",
     "text": [
      "0\n",
      "1\n",
      "2\n",
      "4\n"
     ]
    }
   ],
   "source": [
    "# Continue -->> The continue statement skips the current iteration of the loop and the control flow of the program goes to the next iteration.\n",
    "\n",
    "for i in range(5):\n",
    "    if i == 3:\n",
    "        continue\n",
    "    print(i)"
   ]
  },
  {
   "cell_type": "markdown",
   "id": "6b550ba2-e764-49aa-a276-912abb845634",
   "metadata": {},
   "source": [
    "# 11. In a for loop, what is the difference between range(10), range(0, 10), and range(0, 10, 1)?"
   ]
  },
  {
   "cell_type": "code",
   "execution_count": 81,
   "id": "ac8b2d9c-4be2-4d3a-93e9-d39412398277",
   "metadata": {},
   "outputs": [
    {
     "name": "stdout",
     "output_type": "stream",
     "text": [
      "0\n",
      "1\n",
      "2\n",
      "3\n",
      "4\n",
      "5\n",
      "6\n",
      "7\n",
      "8\n",
      "9\n"
     ]
    }
   ],
   "source": [
    "# range(10) -->> This creates a range object that starts from 0 and goes up to (but does not include) 10, incrementing by 1 at each step. \n",
    "#                The starting value is omitted, so it defaults to 0.\n",
    "\n",
    "for i in range(10):\n",
    "    print(i)"
   ]
  },
  {
   "cell_type": "code",
   "execution_count": 82,
   "id": "ef745309-6063-4f71-b89d-67eda5c5cf93",
   "metadata": {},
   "outputs": [
    {
     "name": "stdout",
     "output_type": "stream",
     "text": [
      "0\n",
      "1\n",
      "2\n",
      "3\n",
      "4\n",
      "5\n",
      "6\n",
      "7\n",
      "8\n",
      "9\n"
     ]
    }
   ],
   "source": [
    "# range(0,10) -->> This creates a range object that starts from 0 and goes up to (but does not include) 10, incrementing by 1 at each step. \n",
    "#                  The starting value is explicitly set to 0.\n",
    "\n",
    "for i in range(0,10):\n",
    "    print(i)"
   ]
  },
  {
   "cell_type": "code",
   "execution_count": 85,
   "id": "fe2af385-e1af-47ab-8221-3397f89d9dc9",
   "metadata": {},
   "outputs": [
    {
     "name": "stdout",
     "output_type": "stream",
     "text": [
      "0\n",
      "1\n",
      "2\n",
      "3\n",
      "4\n",
      "5\n",
      "6\n",
      "7\n",
      "8\n",
      "9\n"
     ]
    }
   ],
   "source": [
    "# range(0,10,1) -->> This is the same as `range(0,10)`. The third argument specifies the step size, which is 1 by default. \n",
    "#                    Since 1 is the default step, it doesn't change the behavior of the range.\n",
    "\n",
    "for i in range(0,10,1):\n",
    "    print(i)"
   ]
  },
  {
   "cell_type": "markdown",
   "id": "4e12205f-1675-4088-90ab-0a2945b62b05",
   "metadata": {},
   "source": [
    "# 12. Write a short program that prints the numbers 1 to 10 using a for loop. Then write an equivalent program that prints the numbers 1 to 10 using a while loop."
   ]
  },
  {
   "cell_type": "code",
   "execution_count": 86,
   "id": "37679f28-33ad-427d-a4f5-ed85f5f47d6b",
   "metadata": {},
   "outputs": [
    {
     "name": "stdout",
     "output_type": "stream",
     "text": [
      "1\n",
      "2\n",
      "3\n",
      "4\n",
      "5\n",
      "6\n",
      "7\n",
      "8\n",
      "9\n",
      "10\n"
     ]
    }
   ],
   "source": [
    "# for loop\n",
    "\n",
    "for i in range(1,10+1):\n",
    "    print(i)"
   ]
  },
  {
   "cell_type": "code",
   "execution_count": 89,
   "id": "35d65534-d873-4ed5-b4c3-d820b4b962df",
   "metadata": {},
   "outputs": [
    {
     "name": "stdout",
     "output_type": "stream",
     "text": [
      "1\n",
      "2\n",
      "3\n",
      "4\n",
      "5\n",
      "6\n",
      "7\n",
      "8\n",
      "9\n",
      "10\n"
     ]
    }
   ],
   "source": [
    "# while loop\n",
    "\n",
    "i=1\n",
    "\n",
    "while i < 11:\n",
    "    print(i)\n",
    "    \n",
    "    i = i+1"
   ]
  },
  {
   "cell_type": "markdown",
   "id": "ad6ff38d-f407-4ae3-9b52-27b575622a30",
   "metadata": {},
   "source": [
    "# 13. If you had a function named bacon() inside a module named spam, how would you call it after importing spam?"
   ]
  },
  {
   "cell_type": "code",
   "execution_count": null,
   "id": "15da49b5-3887-4a35-ba90-03430764fe77",
   "metadata": {},
   "outputs": [],
   "source": [
    "# import spam\n",
    " \n",
    "# spam.bacon()"
   ]
  }
 ],
 "metadata": {
  "kernelspec": {
   "display_name": "Python 3 (ipykernel)",
   "language": "python",
   "name": "python3"
  },
  "language_info": {
   "codemirror_mode": {
    "name": "ipython",
    "version": 3
   },
   "file_extension": ".py",
   "mimetype": "text/x-python",
   "name": "python",
   "nbconvert_exporter": "python",
   "pygments_lexer": "ipython3",
   "version": "3.9.7"
  }
 },
 "nbformat": 4,
 "nbformat_minor": 5
}
