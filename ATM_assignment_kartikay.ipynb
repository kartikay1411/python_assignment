{
 "cells": [
  {
   "cell_type": "markdown",
   "id": "1e3123ef",
   "metadata": {},
   "source": [
    "Q. You need to create an ATM banking system.\n",
    "\n",
    "1. You have Json named (rohit.json).\n",
    "2. Your file contains all information that requires to withdraw money from ATM.\n",
    "    1. Account_number\n",
    "    2. ATM_pin\n",
    "    3. Account_type\n",
    "    4. Balance\n",
    "    5. Mobile number\n",
    "    \n",
    "You will need to write a python code.\n",
    "\n",
    "All four information above you will read from json file. After that you will ask all credentials from\n",
    "customer if all information is correct and customer has sufficient balance in his account than customer\n",
    "can withdraw money.\n",
    "\n",
    "Note: if one credential is wrong you will not ask next credential. You will terminate transaction same\n",
    "time.\n",
    "\n",
    "After money withdrawal you will update remaining balance in your file and dump is as json file again\n",
    "in same balance section."
   ]
  },
  {
   "cell_type": "code",
   "execution_count": 1,
   "id": "4060192d",
   "metadata": {},
   "outputs": [
    {
     "name": "stdout",
     "output_type": "stream",
     "text": [
      "Enter your account number : 1234567890\n",
      "Your account number is correct\n",
      "Enter your ATM pin : 10101\n",
      "Your ATM pin is correct\n",
      "Enter your account type : Savings\n",
      "Your account type is correct\n",
      "Enter your mobile number : 1411202021\n",
      "Your mobile number is correct and your balance is :  20000\n",
      "Enter your amount : 15500\n",
      "Please collect your amount 15500\n",
      "Your remaining balance amount is 4500\n"
     ]
    }
   ],
   "source": [
    "acc_info = {\"Account_number\":1234567890, \"ATM_pin\":10101, \"Account_type\":\"Savings\", \"Balance\":20000, \"Mobile_number\":1411202021}\n",
    "\n",
    "acc_num = int(input(\"Enter your account number : \"))\n",
    "count = 1\n",
    "\n",
    "if acc_num == acc_info[\"Account_number\"]:\n",
    "    print(\"Your account number is correct\")\n",
    "    \n",
    "    while count < 4:\n",
    "        \n",
    "        atm_pin = int(input(\"Enter your ATM pin : \"))\n",
    "        \n",
    "        if atm_pin == acc_info[\"ATM_pin\"]:\n",
    "            print(\"Your ATM pin is correct\")\n",
    "            \n",
    "            acc_type = input(\"Enter your account type : \")\n",
    "            \n",
    "            if acc_type == acc_info[\"Account_type\"]:\n",
    "                print(\"Your account type is correct\")\n",
    "                \n",
    "                mob_num = int(input(\"Enter your mobile number : \"))\n",
    "                \n",
    "                if mob_num == acc_info[\"Mobile_number\"]:\n",
    "                    print(\"Your mobile number is correct and your balance is : \", acc_info[\"Balance\"])\n",
    "                    \n",
    "                    with_amt = int(input(\"Enter your amount : \"))\n",
    "                    \n",
    "                    if with_amt > acc_info[\"Balance\"]:\n",
    "                        print(\"Please enter correct amount\")\n",
    "                        \n",
    "                    elif with_amt <= acc_info[\"Balance\"]:\n",
    "                        print(\"Please collect your amount\", with_amt)\n",
    "                        \n",
    "                        acc_info[\"Balance\"] -= with_amt\n",
    "                        print(\"Your remaining balance amount is\", acc_info[\"Balance\"])\n",
    "                        \n",
    "                        break\n",
    "                else:\n",
    "                    print(\"Wrong mobile number\")\n",
    "                \n",
    "            else:\n",
    "                print(\"Wrong account type\")\n",
    "                      \n",
    "        else:\n",
    "            print(\"Wrong ATM pin\")\n",
    "            \n",
    "        count += 1\n",
    "    \n",
    "    else:\n",
    "        print(\"Your limit for wrong password input has exceeded\")\n",
    "else:\n",
    "    print(\"wrong account number\")\n",
    "    "
   ]
  },
  {
   "cell_type": "code",
   "execution_count": null,
   "id": "4eeb627b",
   "metadata": {},
   "outputs": [],
   "source": []
  }
 ],
 "metadata": {
  "kernelspec": {
   "display_name": "Python 3 (ipykernel)",
   "language": "python",
   "name": "python3"
  },
  "language_info": {
   "codemirror_mode": {
    "name": "ipython",
    "version": 3
   },
   "file_extension": ".py",
   "mimetype": "text/x-python",
   "name": "python",
   "nbconvert_exporter": "python",
   "pygments_lexer": "ipython3",
   "version": "3.11.7"
  }
 },
 "nbformat": 4,
 "nbformat_minor": 5
}
