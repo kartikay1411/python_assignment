{
 "cells": [
  {
   "cell_type": "markdown",
   "id": "eb3f72a0",
   "metadata": {},
   "source": [
    "Q.1 You have a nested list as below:\n",
    "  indian_employees = [[\"Raj\", \"Patel\"], [\"Priya\", \"Sharma\"],[\"Amit\", \"Kumar\"],[\"Neha\", \"Singh\"]]\n",
    "  your have to create an email address for each employee.\n",
    "  Email address should be there firstname+lastname@gmail.com\n",
    "  \n",
    "  Expected output:\n",
    "  RajPatel@gmail.com\n",
    "  PriyaSharma@gmail.com\n",
    "  You have to create email addresses for each employee."
   ]
  },
  {
   "cell_type": "code",
   "execution_count": 2,
   "id": "6bd1d867",
   "metadata": {},
   "outputs": [
    {
     "name": "stdout",
     "output_type": "stream",
     "text": [
      "RajPatel@gmail.com\n",
      "PriyaSharma@gmail.com\n",
      "AmitKumar@gmail.com\n",
      "NehaSingh@gmail.com\n"
     ]
    }
   ],
   "source": [
    "#Email address should be there firstname+lastname@gmail.com\n",
    "\n",
    "indian_employees = [[\"Raj\", \"Patel\"], [\"Priya\", \"Sharma\"],[\"Amit\", \"Kumar\"],[\"Neha\", \"Singh\"]]\n",
    "\n",
    "for sublist in indian_employees:\n",
    "    \n",
    "    firstname = sublist[0]\n",
    "    lastname = sublist[1]\n",
    "    domain = \"@gmail.com\"\n",
    "    \n",
    "    print(firstname + lastname + domain)\n",
    "    "
   ]
  },
  {
   "cell_type": "code",
   "execution_count": null,
   "id": "457ab9e4",
   "metadata": {},
   "outputs": [],
   "source": []
  }
 ],
 "metadata": {
  "kernelspec": {
   "display_name": "Python 3 (ipykernel)",
   "language": "python",
   "name": "python3"
  },
  "language_info": {
   "codemirror_mode": {
    "name": "ipython",
    "version": 3
   },
   "file_extension": ".py",
   "mimetype": "text/x-python",
   "name": "python",
   "nbconvert_exporter": "python",
   "pygments_lexer": "ipython3",
   "version": "3.11.7"
  }
 },
 "nbformat": 4,
 "nbformat_minor": 5
}
